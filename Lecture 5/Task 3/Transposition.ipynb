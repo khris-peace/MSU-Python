{
  "nbformat": 4,
  "nbformat_minor": 0,
  "metadata": {
    "colab": {
      "provenance": []
    },
    "kernelspec": {
      "name": "python3",
      "display_name": "Python 3"
    },
    "language_info": {
      "name": "python"
    }
  },
  "cells": [
    {
      "cell_type": "code",
      "execution_count": null,
      "metadata": {
        "id": "3RycGMmTNIen"
      },
      "outputs": [],
      "source": [
        "with open('med_research.txt', 'r') as f:\n",
        "    m = [s.split() for s in f.readlines()]\n",
        "with open('output.txt', 'w') as f:\n",
        "    for i in range(len(m[0])):\n",
        "        s = ''\n",
        "        for j in range(len(m)):\n",
        "            s += f'{m[j][i]} '\n",
        "        f.write(s + '\\n')"
      ]
    }
  ]
}