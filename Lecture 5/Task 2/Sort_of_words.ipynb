{
  "nbformat": 4,
  "nbformat_minor": 0,
  "metadata": {
    "colab": {
      "provenance": []
    },
    "kernelspec": {
      "name": "python3",
      "display_name": "Python 3"
    },
    "language_info": {
      "name": "python"
    }
  },
  "cells": [
    {
      "cell_type": "code",
      "execution_count": null,
      "metadata": {
        "id": "JVgI3dm3PKcc",
        "colab": {
          "base_uri": "https://localhost:8080/"
        },
        "outputId": "1c140eab-4d10-4050-96ae-68f27022c48d"
      },
      "outputs": [
        {
          "output_type": "stream",
          "name": "stdout",
          "text": [
            "['I was angry with my friend\\n', 'I told my wrath my wrath did end\\n', 'I was angry with my foe\\n', 'I told it not my wrath did grow'] <class 'list'>\n"
          ]
        }
      ],
      "source": [
        "#в тексте намеренно перепутаны строки, а в каждой строке перепутаны слова\n",
        "f = open('poe_unpublished.txt')\n",
        "lines = f.readlines()\n",
        "\n",
        "print(lines, type(lines))\n",
        "\n",
        "a = lines.sort(key = len, reverse=False)\n",
        "\n",
        "#print(lines)\n",
        "\n",
        "A = [None]*len(lines)\n",
        "\n",
        "for i in range(0,len(lines)):\n",
        "  #print(lines[i], type(lines[i]))\n",
        "  b = (lines[i]).split(' ')\n",
        "  if i < (len(lines)-1):\n",
        "    b[-1] = b[-1][0:-1]\n",
        "  #print(b, type(b))\n",
        "  b.sort(key=len, reverse=False)\n",
        "  b = ' '.join(b)\n",
        "  #print(b, type(b))\n",
        "  if i < (len(lines)-1):\n",
        "    #e1 = b.join(\" \")\n",
        "    b = b + '\\n'\n",
        "    #e = b + '\\n'\n",
        "    lines[i] = b\n",
        "  else:\n",
        "    #e = b.join(\" \")\n",
        "    lines[i] = b\n",
        "\n",
        "#print(lines, type(lines))\n",
        "\n",
        "#A = lines.join(\"\")\n",
        "#A = str(lines)\n",
        "\n",
        "\n",
        "F = open('poe_decode_attempt.txt', 'w')\n",
        "F.writelines(lines)\n",
        "#F.write(A)\n",
        "F = F.close()\n",
        "\n",
        "#with open('some_file_1.txt', 'r') as file1:\n",
        " #   with open('some_file_2.txt', 'r') as file2:\n",
        "  #      same = set(file1).intersection(file2)"
      ]
    }
  ]
}