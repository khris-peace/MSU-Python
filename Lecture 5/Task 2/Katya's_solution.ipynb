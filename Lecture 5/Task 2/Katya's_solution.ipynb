{
  "nbformat": 4,
  "nbformat_minor": 0,
  "metadata": {
    "colab": {
      "provenance": []
    },
    "kernelspec": {
      "name": "python3",
      "display_name": "Python 3"
    },
    "language_info": {
      "name": "python"
    }
  },
  "cells": [
    {
      "cell_type": "code",
      "execution_count": null,
      "metadata": {
        "id": "JXSKzQaDMcLf"
      },
      "outputs": [],
      "source": [
        "with open ('poe_unpublished.txt', 'r') as f:\n",
        "  a = f.read().splitlines()\n",
        "\n",
        "b = sorted(a, key=lambda line: len(line.split()))\n",
        "\n",
        "with open ('poe_decode_attempt.txt', 'w') as f:\n",
        "  for line in b:\n",
        "    words = line.split()\n",
        "    words.sort(key=len)\n",
        "    print(*words, file=f)"
      ]
    }
  ]
}