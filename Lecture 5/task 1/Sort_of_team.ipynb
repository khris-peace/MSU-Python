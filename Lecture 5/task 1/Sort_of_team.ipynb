{
  "nbformat": 4,
  "nbformat_minor": 0,
  "metadata": {
    "colab": {
      "provenance": [],
      "collapsed_sections": []
    },
    "kernelspec": {
      "name": "python3",
      "display_name": "Python 3"
    },
    "language_info": {
      "name": "python"
    }
  },
  "cells": [
    {
      "cell_type": "code",
      "execution_count": 52,
      "metadata": {
        "colab": {
          "base_uri": "https://localhost:8080/"
        },
        "id": "QKVAb42SIYi0",
        "outputId": "a10933cc-8ad1-4a73-dd03-fb4fab41f90a"
      },
      "outputs": [
        {
          "output_type": "stream",
          "name": "stdout",
          "text": [
            "['V 23.5\\n', 'U 22.5\\n', 'T 21.5\\n', 'S 20.5\\n', 'R 19.5\\n', 'Q 18.5\\n', 'P 17.5\\n', 'O 16.5\\n', 'N 15.5\\n', 'M 14.5\\n', 'L 13.5\\n', 'K 12.5\\n', 'J 11.5\\n', 'I 10.5\\n', 'H 9.5\\n', 'G 8.5\\n', 'F 7.5\\n', 'E 6.5\\n', 'D 4.5\\n', 'C 3.5\\n', 'B 2.5\\n', 'A 1.5\\n'] <class 'NoneType'>\n"
          ]
        }
      ],
      "source": [
        "f = open('weights.txt')\n",
        "lines = f.readlines()\n",
        "\n",
        "lines[21] = lines[21] +'\\n'\n",
        "#print(lines)\n",
        "a = lines.sort(reverse=True)\n",
        "#lines[0] = lines[0]+'\\n'\n",
        "#a = sorted(lines)\n",
        "#print(lines, type(a))\n",
        "#print(a)\n",
        "b1 = lines[::2]\n",
        "b2 = lines[1::2]\n",
        "\n",
        "#print(b1)\n",
        "#print(b2)\n",
        "e = b1+b2\n",
        "#print(e[21], type(e[21]))\n",
        "e[21] = e[21][0:-1]\n",
        "#e[21] = (e[21]).pop(-1)\n",
        "#print(e[21], type(e))\n",
        "#print(e)\n",
        "\n",
        "F = open('team.txt', 'w')\n",
        "F.writelines(e)\n",
        "F = F.close()\n",
        "#for i in range(23):\n",
        " # b[i] = \n",
        "  #b[i+1] = \n",
        "\n",
        "#guys = lines.split('\\n')\n",
        "#print(guys)"
      ]
    }
  ]
}