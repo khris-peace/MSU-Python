{
  "nbformat": 4,
  "nbformat_minor": 0,
  "metadata": {
    "colab": {
      "provenance": []
    },
    "kernelspec": {
      "name": "python3",
      "display_name": "Python 3"
    },
    "language_info": {
      "name": "python"
    }
  },
  "cells": [
    {
      "cell_type": "code",
      "execution_count": null,
      "metadata": {
        "id": "ZMCmsvJfNWY0"
      },
      "outputs": [],
      "source": [
        "def split_line(x):\n",
        "    s = x.split()\n",
        "    return (s[2], -int(s[1]))\n",
        " \n",
        " \n",
        "with open('the_calls.txt', 'r') as f:\n",
        "    lines = f.read().splitlines()\n",
        "    a = sorted(lines, key=split_line)\n",
        " \n",
        "with open('calls.txt', 'w', encoding='utf-8') as f:\n",
        "    f.write('\\n'.join(a))"
      ]
    }
  ]
}