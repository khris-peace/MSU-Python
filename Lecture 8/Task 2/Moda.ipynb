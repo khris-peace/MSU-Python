{
  "nbformat": 4,
  "nbformat_minor": 0,
  "metadata": {
    "colab": {
      "provenance": []
    },
    "kernelspec": {
      "name": "python3",
      "display_name": "Python 3"
    },
    "language_info": {
      "name": "python"
    }
  },
  "cells": [
    {
      "cell_type": "code",
      "execution_count": null,
      "metadata": {
        "id": "yD2oEYmP-Od1"
      },
      "outputs": [],
      "source": [
        "import numpy as np\n",
        "\n",
        "colors = np.zeros(3, dtype=int)\n",
        "with open('input.csv', 'r') as f:\n",
        "  for line in f:\n",
        "    data = list(map(int, line.split(',')))\n",
        "    colors[0] += data[0]\n",
        "    colors[1] += data[1]\n",
        "    colors[2] += data[2]\n",
        "\n",
        "print(np.argmax(colors) + 1)"
      ]
    }
  ]
}