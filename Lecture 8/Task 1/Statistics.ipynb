{
  "nbformat": 4,
  "nbformat_minor": 0,
  "metadata": {
    "colab": {
      "provenance": []
    },
    "kernelspec": {
      "name": "python3",
      "display_name": "Python 3"
    },
    "language_info": {
      "name": "python"
    }
  },
  "cells": [
    {
      "cell_type": "code",
      "execution_count": 45,
      "metadata": {
        "colab": {
          "base_uri": "https://localhost:8080/"
        },
        "id": "BGjz1jxbhHlr",
        "outputId": "a228be45-66cc-4437-bab3-8353177a5373"
      },
      "outputs": [
        {
          "output_type": "stream",
          "name": "stdout",
          "text": [
            "3816.00 5149.53 3117.01\n"
          ]
        },
        {
          "output_type": "stream",
          "name": "stderr",
          "text": [
            "<ipython-input-45-ff8cf5bfa354>:15: DeprecationWarning: `np.int` is a deprecated alias for the builtin `int`. To silence this warning, use `int` by itself. Doing this will not modify any behavior and is safe. When replacing `np.int`, you may wish to use e.g. `np.int64` or `np.int32` to specify the precision. If you wish to review your current use, check the release note link for additional information.\n",
            "Deprecated in NumPy 1.20; for more details and guidance: https://numpy.org/devdocs/release/1.20.0-notes.html#deprecations\n",
            "  A = A.astype(np.int)\n"
          ]
        }
      ],
      "source": [
        "\"\"\"print(\"{:.2f}\".format(3.14159)) -> 3.14\n",
        "\n",
        "numpy.median(),\n",
        "numpy.mean(),\n",
        "numpy.std().\"\"\"\n",
        "\n",
        "import numpy as np\n",
        "\n",
        "f = open(\"input.txt\", \"r\")\n",
        "lines = f.readlines()[0].split(' ')\n",
        "#print(lines, type(lines))\n",
        "\n",
        "A = np.array(lines)\n",
        "#print(A, type(A))\n",
        "A = A.astype(np.int)\n",
        "#print(A, type(A))\n",
        "\n",
        "#a = np.array([['-0.99', '', '0.56', '0.56', '-2.02', '-0.96']])\n",
        "#a[a == ''] = 0.0\n",
        "#a = a.astype(np.float)\n",
        "\n",
        "#A = np.random.randint(0, 100, 5000)\n",
        "#print(A, type(A))\n",
        "\n",
        "m = np.median(A)\n",
        "sr = np.mean(A)\n",
        "sc = np.std(A)\n",
        "\n",
        "print(\"{:.2f}\".format(m), \"{:.2f}\".format(sr), \"{:.2f}\".format(sc))\n"
      ]
    }
  ]
}