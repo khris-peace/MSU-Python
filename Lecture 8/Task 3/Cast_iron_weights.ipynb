{
  "nbformat": 4,
  "nbformat_minor": 0,
  "metadata": {
    "colab": {
      "provenance": []
    },
    "kernelspec": {
      "name": "python3",
      "display_name": "Python 3"
    },
    "language_info": {
      "name": "python"
    }
  },
  "cells": [
    {
      "cell_type": "code",
      "execution_count": 10,
      "metadata": {
        "colab": {
          "base_uri": "https://localhost:8080/"
        },
        "id": "oHxD5hB132Lp",
        "outputId": "554e37a5-2542-47fa-95fc-1cef2bb0b6f1"
      },
      "outputs": [
        {
          "output_type": "stream",
          "name": "stdout",
          "text": [
            "2\n"
          ]
        }
      ],
      "source": [
        "import numpy as np\n",
        "\n",
        "with open('input.csv', 'r') as f:\n",
        "  data = np.genfromtxt(f, dtype=int, delimiter=',')\n",
        "\n",
        "means = np.mean(data, axis=1)\n",
        "stds = np.std(data, axis = 1)\n",
        "if np.sum(stds > 4) > np.sum(stds <= 4):\n",
        "  print(2)\n",
        "else:\n",
        "  print(1)"
      ]
    }
  ]
}