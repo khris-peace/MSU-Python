{
  "nbformat": 4,
  "nbformat_minor": 0,
  "metadata": {
    "colab": {
      "provenance": []
    },
    "kernelspec": {
      "name": "python3",
      "display_name": "Python 3"
    },
    "language_info": {
      "name": "python"
    }
  },
  "cells": [
    {
      "cell_type": "code",
      "execution_count": 3,
      "metadata": {
        "id": "G8w_Om7Q5Uiv"
      },
      "outputs": [],
      "source": [
        "import numpy as np\n",
        "\n",
        "hours = np.genfromtxt('input.csv', delimiter = ',')\n",
        "hours = hours.astype('float')\n",
        "hours[::2, 1::2] = [0.5*x for x in hours[::2, 1::2]]\n",
        "hours[1::2, ::2] = [0.5*x for x in hours[1::2, ::2]]\n",
        "for row in hours:\n",
        "  for i in row:\n",
        "    i = \"%g\" %(i)\n",
        "    #print(i, type(i))\n",
        "#print(hours)\n",
        "np.savetxt('output.csv', hours, fmt = '%g', delimiter = ',')"
      ]
    }
  ]
}