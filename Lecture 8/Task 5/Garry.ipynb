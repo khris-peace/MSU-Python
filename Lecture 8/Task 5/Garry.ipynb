{
  "nbformat": 4,
  "nbformat_minor": 0,
  "metadata": {
    "colab": {
      "provenance": []
    },
    "kernelspec": {
      "name": "python3",
      "display_name": "Python 3"
    },
    "language_info": {
      "name": "python"
    }
  },
  "cells": [
    {
      "cell_type": "code",
      "execution_count": 28,
      "metadata": {
        "id": "l-VVuRGT-eqI"
      },
      "outputs": [],
      "source": [
        "import pandas as pd\n",
        "import numpy as np \n",
        " \n",
        "# load the data from the input.csv file \n",
        "data = np.genfromtxt('input.csv', delimiter=',')\n",
        "data = data.astype('float')\n",
        " \n",
        "# calculate the average number of wins for each day \n",
        "avg_wins = np.mean(data, axis=0) \n",
        " \n",
        "# replace the first row of the data with the average value for each day multiplied by 1.5 \n",
        "data[0, :] = np.floor(avg_wins * 1.5) \n",
        " \n",
        "# save the modified data to the output.csv file \n",
        "#print(\"{:.2f}\".format(m), \"{:.2f}\".format(sr), \"{:.2f}\".format(sc))\n",
        "data = data.astype('int')\n",
        "#d = data\n",
        "#data = '{:,.0f}'.format(data)\n",
        "np.savetxt('output.csv', data, fmt='%g', delimiter=',')\n",
        "#a = np.array([1, 2, 3, 4])\n",
        "#np.savetxt('test1.txt', a, fmt='%d')\n",
        "#b = np.loadtxt('test1.txt', dtype=int)\n",
        "#a == b"
      ]
    }
  ]
}