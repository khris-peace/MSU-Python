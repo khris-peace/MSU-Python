{
  "nbformat": 4,
  "nbformat_minor": 0,
  "metadata": {
    "colab": {
      "provenance": []
    },
    "kernelspec": {
      "name": "python3",
      "display_name": "Python 3"
    },
    "language_info": {
      "name": "python"
    }
  },
  "cells": [
    {
      "cell_type": "code",
      "execution_count": 23,
      "metadata": {
        "id": "2fDW9wfytfC1"
      },
      "outputs": [],
      "source": [
        "import pandas as pd\n",
        "import numpy as np\n",
        "\n",
        "df = pd.read_csv('input.csv')\n",
        "\n",
        "df = df.dropna(subset=['name'])\n",
        "#avr = df[\"score\"].mean()\n",
        "#avr = df.mean(['score'], int)\n",
        "df['score'] = df['score'].fillna(value = df[\"score\"].mean())#, inplace = True)\n",
        "\n",
        "df.to_csv('output.csv')"
      ]
    }
  ]
}