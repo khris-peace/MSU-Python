{
  "nbformat": 4,
  "nbformat_minor": 0,
  "metadata": {
    "colab": {
      "provenance": []
    },
    "kernelspec": {
      "name": "python3",
      "display_name": "Python 3"
    },
    "language_info": {
      "name": "python"
    }
  },
  "cells": [
    {
      "cell_type": "code",
      "execution_count": null,
      "metadata": {
        "id": "F6gZ3DHojujx"
      },
      "outputs": [],
      "source": [
        "import pandas as pd\n",
        "\n",
        "df = pd.read_csv('input.csv')\n",
        "df = df.drop(columns='ID')\n",
        "df['Тип операции'] = df['Тип операции'].apply(lambda x: 1 if x == 'Привоз' else -1)\n",
        "df['Объем груза'] = df['Объем груза'] * df['Тип операции']\n",
        "df = df.drop(columns='Тип операции')\n",
        "df = df.groupby('Фамилия водителя').sum()\n",
        "df.sort_values(by=['Объем груза','Фамилия водителя'], ascending=[Falset, True], inplace = True)\n",
        "df.to_csv('output.csv', encoding='utf-8')"
      ]
    }
  ]
}