{
  "nbformat": 4,
  "nbformat_minor": 0,
  "metadata": {
    "colab": {
      "provenance": []
    },
    "kernelspec": {
      "name": "python3",
      "display_name": "Python 3"
    },
    "language_info": {
      "name": "python"
    }
  },
  "cells": [
    {
      "cell_type": "code",
      "execution_count": 5,
      "metadata": {
        "id": "pKVgXM_W8_Iw"
      },
      "outputs": [],
      "source": [
        "data = '''ID,Город отправления,Город прибытия,Номер борта\n",
        "7,Геленджик,Омск,128\n",
        "8,Москва,Красноярск,191\n",
        "9,Иркутск,Рязань,170\n",
        "10,Саратов,Грозный,104\n",
        "11,Екатеринбург,Хабаровск,197\n",
        "12,Рязань,Хабаровск,189\n",
        "13,Новосибирск,Омск,128\n",
        "14,Санкт-Петербург,Краснодар,182\n",
        "15,Санкт-Петербург,Грозный,117\n",
        "16,Москва,Новосибирск,153\n",
        "17,Москва,Краснодар,138\n",
        "18,Краснодар,Саратов,139\n",
        "19,Санкт-Петербург,Пермь,189\n",
        "20,Пермь,Уфа,128'''\n",
        "\n",
        "with open('input.csv', 'w') as f:\n",
        "  f.write(data)\n",
        "\n",
        "import pandas as pd\n",
        "\n",
        "\n",
        "df = pd.read_csv('input.csv')\n",
        "\n",
        "df['Маршрут'] = df['Город отправления'] + df['Город прибытия']\n",
        "df = df.groupby('Номер борта')['Маршрут'].nunique().rename('Уникальных маршрутов').reset_index()\n",
        "df = df.sort_values(['Уникальных маршрутов','Номер борта'], ascending=[False, True])\n",
        "df.to_csv('output.csv', encoding='utf-8', index=False)"
      ]
    }
  ]
}