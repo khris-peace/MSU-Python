{
  "nbformat": 4,
  "nbformat_minor": 0,
  "metadata": {
    "colab": {
      "provenance": []
    },
    "kernelspec": {
      "name": "python3",
      "display_name": "Python 3"
    },
    "language_info": {
      "name": "python"
    }
  },
  "cells": [
    {
      "cell_type": "code",
      "execution_count": null,
      "metadata": {
        "id": "yShnWgo8eg9E"
      },
      "outputs": [],
      "source": [
        "import pandas as pd\n",
        "\n",
        "data = pd.read_cvs('input.cvs')\n",
        "\n",
        "def tf(x):\n",
        "  return 1.8*x + 32\n",
        "data['temperature_f'] = data['temperature_c'].apply(tf).apply(round)\n",
        "data.to_csv('output.csv', encoding = 'utf-8')"
      ]
    }
  ]
}