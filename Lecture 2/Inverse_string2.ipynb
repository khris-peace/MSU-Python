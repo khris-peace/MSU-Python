{
  "nbformat": 4,
  "nbformat_minor": 0,
  "metadata": {
    "colab": {
      "provenance": [],
      "collapsed_sections": []
    },
    "kernelspec": {
      "name": "python3",
      "display_name": "Python 3"
    },
    "language_info": {
      "name": "python"
    }
  },
  "cells": [
    {
      "cell_type": "code",
      "execution_count": 2,
      "metadata": {
        "colab": {
          "base_uri": "https://localhost:8080/"
        },
        "id": "Bf5OMge-kbyq",
        "outputId": "abaf6c96-fd94-48eb-a05c-91ced69c8adf"
      },
      "outputs": [
        {
          "output_type": "stream",
          "name": "stdout",
          "text": [
            "khris_peace@yahoo.com\n",
            "khris_peace\n"
          ]
        }
      ],
      "source": [
        "postal = input ().strip ()\n",
        "pos = postal.find (\"@\") \n",
        "if pos != -1: \n",
        "    print (postal[0:pos])"
      ]
    }
  ]
}