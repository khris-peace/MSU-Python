{
  "nbformat": 4,
  "nbformat_minor": 0,
  "metadata": {
    "colab": {
      "provenance": [],
      "collapsed_sections": []
    },
    "kernelspec": {
      "name": "python3",
      "display_name": "Python 3"
    },
    "language_info": {
      "name": "python"
    }
  },
  "cells": [
    {
      "cell_type": "code",
      "execution_count": 1,
      "metadata": {
        "colab": {
          "base_uri": "https://localhost:8080/"
        },
        "id": "TZi4R5hKk-oR",
        "outputId": "d8521af8-f0c2-4ffe-bf47-bee6f8647fa3"
      },
      "outputs": [
        {
          "output_type": "stream",
          "name": "stdout",
          "text": [
            "Hel\"lo Wor\"ld!\n",
            "lo Wor\n"
          ]
        }
      ],
      "source": [
        "print(input().split('\"')[1])"
      ]
    }
  ]
}