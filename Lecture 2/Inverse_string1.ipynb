{
  "nbformat": 4,
  "nbformat_minor": 0,
  "metadata": {
    "colab": {
      "provenance": [],
      "collapsed_sections": []
    },
    "kernelspec": {
      "name": "python3",
      "display_name": "Python 3"
    },
    "language_info": {
      "name": "python"
    }
  },
  "cells": [
    {
      "cell_type": "code",
      "execution_count": 6,
      "metadata": {
        "colab": {
          "base_uri": "https://localhost:8080/"
        },
        "id": "gtQJq1uPeftW",
        "outputId": "f4424a74-e323-423d-e7f2-47b045f1cda9"
      },
      "outputs": [
        {
          "output_type": "stream",
          "name": "stdout",
          "text": [
            "Hello World!\n",
            "['H', 'e', 'l', 'l', 'o', ' ', 'W', 'o', 'r', 'l', 'd', '!']\n"
          ]
        }
      ],
      "source": [
        "a = list(input())\n",
        "n = len(a)\n",
        "for i in range(n):\n",
        "      tmp = a[i]\n",
        "      a[i] = a[n - i - 1]\n",
        "      a[n - i - 1] = tmp\n",
        "print(a)"
      ]
    }
  ]
}