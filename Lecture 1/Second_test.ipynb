{
  "nbformat": 4,
  "nbformat_minor": 0,
  "metadata": {
    "colab": {
      "provenance": []
    },
    "kernelspec": {
      "name": "python3",
      "display_name": "Python 3"
    },
    "language_info": {
      "name": "python"
    }
  },
  "cells": [
    {
      "cell_type": "code",
      "execution_count": 12,
      "metadata": {
        "colab": {
          "base_uri": "https://localhost:8080/"
        },
        "id": "0vjCvKK4Fkle",
        "outputId": "e69ece4a-7385-4f38-dd55-1d4090e28161"
      },
      "outputs": [
        {
          "output_type": "stream",
          "name": "stdout",
          "text": [
            "1 2 3 4 5 6\n",
            "11\n",
            "6\n"
          ]
        }
      ],
      "source": [
        "s = input()\n",
        "l1 = len(s) # if we want to calculate all symbols including commas nad spaces\n",
        "l2 = len(s.replace(' ','')) # if we want to calculate all symbols besides something\n",
        "print(l1)\n",
        "print(l2)"
      ]
    }
  ]
}