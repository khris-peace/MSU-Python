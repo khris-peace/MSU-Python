{
  "nbformat": 4,
  "nbformat_minor": 0,
  "metadata": {
    "colab": {
      "provenance": [],
      "collapsed_sections": []
    },
    "kernelspec": {
      "name": "python3",
      "display_name": "Python 3"
    },
    "language_info": {
      "name": "python"
    }
  },
  "cells": [
    {
      "cell_type": "code",
      "execution_count": null,
      "metadata": {
        "colab": {
          "base_uri": "https://localhost:8080/"
        },
        "id": "rrOj4EigxXXk",
        "outputId": "8564cc67-141e-49a7-d891-a9b29e241693"
      },
      "outputs": [
        {
          "output_type": "stream",
          "name": "stdout",
          "text": [
            "Hello, world\n",
            "1111\n",
            "6\n"
          ]
        }
      ],
      "source": [
        "print ('Hello, world')\n",
        "f = open ('1.txt')\n",
        "l = f.read()\n",
        "print(l) # If we want to use files fro our own computer\n",
        "# !wget -0 name_of_the_file_that_we_want_to_create.txt \"link to get file remotely\"\n",
        "lst = [1,2,3]\n",
        "print(sum(lst))"
      ]
    }
  ]
}