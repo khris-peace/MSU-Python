{
  "nbformat": 4,
  "nbformat_minor": 0,
  "metadata": {
    "colab": {
      "provenance": []
    },
    "kernelspec": {
      "name": "python3",
      "display_name": "Python 3"
    },
    "language_info": {
      "name": "python"
    }
  },
  "cells": [
    {
      "cell_type": "code",
      "execution_count": 6,
      "metadata": {
        "colab": {
          "base_uri": "https://localhost:8080/"
        },
        "id": "UQ7qF5qGwsD5",
        "outputId": "561f8d0a-49ed-4b07-e129-1ce41a9f618f"
      },
      "outputs": [
        {
          "output_type": "stream",
          "name": "stdout",
          "text": [
            "False True False\n",
            "False True True\n",
            "True False False\n"
          ]
        }
      ],
      "source": [
        "import itertools\n",
        "\n",
        "B = (False, True)\n",
        "solutions=[]\n",
        "\n",
        "for x1, x2, x3 in itertools.product(B,B,B):\n",
        "  if ((not x1 and x2 and not x3) or (not x1 and x2 and x3) or (x1 and not x2 and not x3)) == True:\n",
        "    solutions.append([x1,x2,x3])\n",
        "        \n",
        "for sol in sorted(solutions):\n",
        "\tprint(*sol)"
      ]
    }
  ]
}