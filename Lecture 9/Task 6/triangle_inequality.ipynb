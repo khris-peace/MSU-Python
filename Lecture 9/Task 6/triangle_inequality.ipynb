{
  "nbformat": 4,
  "nbformat_minor": 0,
  "metadata": {
    "colab": {
      "provenance": []
    },
    "kernelspec": {
      "name": "python3",
      "display_name": "Python 3"
    },
    "language_info": {
      "name": "python"
    }
  },
  "cells": [
    {
      "cell_type": "code",
      "execution_count": null,
      "metadata": {
        "id": "_7-dxj-Ymyrv"
      },
      "outputs": [],
      "source": [
        "with open('input.csv', mode='r') as f:\n",
        "    txt=f.readlines()[1:]\n",
        "s=0\n",
        "for line in txt:\n",
        "    a,b,c=map(int, line.split(','))\n",
        "    a,b,c = sorted([a,b,c])\n",
        "    s+=a+b>c\n",
        "print(s)"
      ]
    }
  ]
}