{
  "nbformat": 4,
  "nbformat_minor": 0,
  "metadata": {
    "colab": {
      "provenance": []
    },
    "kernelspec": {
      "name": "python3",
      "display_name": "Python 3"
    },
    "language_info": {
      "name": "python"
    }
  },
  "cells": [
    {
      "cell_type": "code",
      "execution_count": null,
      "metadata": {
        "id": "jRHkZ-qz4Gz1"
      },
      "outputs": [],
      "source": [
        "import numpy as np\n",
        "\n",
        "with open('input.csv', encoding='utf8') as f:\n",
        "  lines = f.readlines()\n",
        "\n",
        "for i in range(len(lines)):\n",
        "  if i > 0:\n",
        "    lines[i] = lines[i].strip('\\n')\n",
        "    lines[i] = list(map(float,lines[i].split(',')))\n",
        "  else:\n",
        "    lines[i] = lines[i].strip('\\n')\n",
        "    lines[i] = list(map(str,lines[i].split(',')))\n",
        "\n",
        "data = np.array(lines[1:])\n",
        "mean = np.mean(data, axis=0)\n",
        "max = np.max(mean)\n",
        "headers = lines[0]\n",
        "\n",
        "for i in range(len(mean)):\n",
        "  if mean[i] == max:\n",
        "    print(headers[i])"
      ]
    }
  ]
}