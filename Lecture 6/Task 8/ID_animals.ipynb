{
  "nbformat": 4,
  "nbformat_minor": 0,
  "metadata": {
    "colab": {
      "provenance": []
    },
    "kernelspec": {
      "name": "python3",
      "display_name": "Python 3"
    },
    "language_info": {
      "name": "python"
    }
  },
  "cells": [
    {
      "cell_type": "code",
      "execution_count": 6,
      "metadata": {
        "colab": {
          "base_uri": "https://localhost:8080/"
        },
        "id": "sa5djtd35FWI",
        "outputId": "97aeba99-b279-413c-c621-ec0fbe7d9cfe"
      },
      "outputs": [
        {
          "output_type": "stream",
          "name": "stdout",
          "text": [
            "dog: 0003, 0043\n",
            "lion: 0042\n"
          ]
        }
      ],
      "source": [
        "result = {}\n",
        " \n",
        "with open('input.txt') as file:\n",
        "    for line in file:\n",
        "        data = line.split()\n",
        "        result.setdefault(data[1], []).append(data[0])\n",
        " \n",
        "for key in sorted(result, key=len):\n",
        "    print(f'{key}: {\", \".join(sorted(result[key]))}')"
      ]
    }
  ]
}