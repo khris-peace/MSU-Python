{
  "nbformat": 4,
  "nbformat_minor": 0,
  "metadata": {
    "colab": {
      "provenance": []
    },
    "kernelspec": {
      "name": "python3",
      "display_name": "Python 3"
    },
    "language_info": {
      "name": "python"
    }
  },
  "cells": [
    {
      "cell_type": "code",
      "execution_count": 28,
      "metadata": {
        "id": "3ldnOE2zhaK7"
      },
      "outputs": [],
      "source": [
        "from collections import Counter\n",
        "\n",
        "f = open('input.txt')\n",
        "lines = f.read()\n",
        "\n",
        "candidates_votes = Counter()  # Счётчик для голосов за кандидатов.\n",
        "with open(\"input.txt\") as file:\n",
        "    students_set = list(lines)#line.strip() for line in file}\n",
        "    #print(students_set)\n",
        "with open(\"input.txt\") as file:\n",
        "    candidates = set(lines)\n",
        "    for candidate in students_set:\n",
        "        #print(candidate)\n",
        "        if candidate in students_set:\n",
        "          candidates_votes[candidate] += 1\n",
        "      \n",
        "  \n",
        "rating = candidates_votes.most_common()\n",
        "elected_delegate = rating[0][0]\n",
        "#print(\"Избранный представитель факультета:\", elected_delegate)\n",
        "\n",
        "F = open('output.txt', 'w')\n",
        "F.write(elected_delegate)\n",
        "F = F.close()\n"
      ]
    }
  ]
}