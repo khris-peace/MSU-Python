{
  "nbformat": 4,
  "nbformat_minor": 0,
  "metadata": {
    "colab": {
      "provenance": []
    },
    "kernelspec": {
      "name": "python3",
      "display_name": "Python 3"
    },
    "language_info": {
      "name": "python"
    }
  },
  "cells": [
    {
      "cell_type": "code",
      "execution_count": 26,
      "metadata": {
        "colab": {
          "base_uri": "https://localhost:8080/"
        },
        "id": "epx7CpKkxXVF",
        "outputId": "a6d9bce9-933d-4248-e3f2-cf392ba395c0"
      },
      "outputs": [
        {
          "output_type": "stream",
          "name": "stdout",
          "text": [
            "0\n"
          ]
        }
      ],
      "source": [
        "with open('input.txt') as file:\n",
        "    res = {}\n",
        "    for line in file.readlines():\n",
        "        kind, gender, *_ = line.split()[1:]\n",
        "        res[gender] = res.get(gender, set()) | set([kind])\n",
        "    if \"male\" in res and \"female\" in res:\n",
        "      A = res['male'].intersection(res['female'])\n",
        "      if len(A)==0:\n",
        "        print('0')\n",
        "      else:\n",
        "        for j in range(0,len(A)):\n",
        "          print(sorted(A, key=len)[j])\n",
        "    else:\n",
        "      print('0')"
      ]
    }
  ]
}