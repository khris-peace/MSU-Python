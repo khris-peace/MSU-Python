{
  "nbformat": 4,
  "nbformat_minor": 0,
  "metadata": {
    "colab": {
      "provenance": []
    },
    "kernelspec": {
      "name": "python3",
      "display_name": "Python 3"
    },
    "language_info": {
      "name": "python"
    }
  },
  "cells": [
    {
      "cell_type": "code",
      "execution_count": 17,
      "metadata": {
        "colab": {
          "base_uri": "https://localhost:8080/"
        },
        "id": "DcK_uEjyrrOn",
        "outputId": "259aff4a-33d7-4d60-dc27-4bde02f6ef26"
      },
      "outputs": [
        {
          "output_type": "stream",
          "name": "stdout",
          "text": [
            "leopard\n",
            "orangutan\n"
          ]
        }
      ],
      "source": [
        "f = open(\"input.txt\", \"r\")\n",
        "lines = f.readlines()\n",
        "#print(lines)\n",
        "\n",
        "animals = set()\n",
        "\n",
        "A = lines[0].split()\n",
        "#print(A)\n",
        "\n",
        "a = ['a']*len(lines)\n",
        "#print(a)\n",
        "\n",
        "for i in range(0,len(lines)):\n",
        "  P = (lines[i].split())[1]\n",
        "  animals.add(P)\n",
        "  #print(animals)\n",
        "\n",
        "#set1 = {3, 2, 1}\n",
        "#sorted(animals, key = len)\n",
        "for j in range(0,len(animals)):\n",
        "  print(sorted(animals, key=len)[j])"
      ]
    }
  ]
}