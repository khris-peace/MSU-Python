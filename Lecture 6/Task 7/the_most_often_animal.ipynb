{
  "nbformat": 4,
  "nbformat_minor": 0,
  "metadata": {
    "colab": {
      "provenance": []
    },
    "kernelspec": {
      "name": "python3",
      "display_name": "Python 3"
    },
    "language_info": {
      "name": "python"
    }
  },
  "cells": [
    {
      "cell_type": "code",
      "execution_count": 21,
      "metadata": {
        "colab": {
          "base_uri": "https://localhost:8080/"
        },
        "id": "iB_eAN5Z-rR-",
        "outputId": "4ea2fcfe-77d4-40d0-cfc0-dfba3fc200af"
      },
      "outputs": [
        {
          "output_type": "stream",
          "name": "stdout",
          "text": [
            "dog - 2\n",
            "cat - 1\n"
          ]
        }
      ],
      "source": [
        "from collections import Counter\n",
        "\n",
        "f = open(\"input.txt\", \"r\")\n",
        "lines = f.readlines()\n",
        "#print(lines)\n",
        "\n",
        "animals = set()\n",
        "\n",
        "A = lines[0].split()\n",
        "#print(A)\n",
        "\n",
        "for i in range(0,len(lines)):\n",
        "  P = (lines[i].split())[1]\n",
        "  animals.add(P)\n",
        "  #print(animals)\n",
        "\n",
        "all_animals = [0]*len(lines)\n",
        "\n",
        "for k in range(0,len(lines)):\n",
        "  all_animals[k] = (lines[k].split())[1]\n",
        "  #animals.add(P)\n",
        "#print(all_animals)\n",
        "\n",
        "candidates_votes = Counter()  # Счётчик для голосов за кандидатов.\n",
        "#students_set = list(lines)\n",
        "#print(students_set)\n",
        "#candidates = set(lines)\n",
        "for animal in all_animals:#students_set:\n",
        "    #print(candidate)\n",
        "    if animal in animals:\n",
        "      candidates_votes[animal] += 1\n",
        "      \n",
        "  \n",
        "rating = candidates_votes.most_common()\n",
        "elected_delegate = rating[0][0]\n",
        "\n",
        "for j in range(0,len(animals)):\n",
        "  print(rating[j][0], '-', rating[j][1])\n",
        "\n",
        "#for j in range(0,len(animals)):\n",
        " # print(rating[][])#sorted(animals, key=len)[j])"
      ]
    }
  ]
}