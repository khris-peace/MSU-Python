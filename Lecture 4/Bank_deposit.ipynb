{
  "nbformat": 4,
  "nbformat_minor": 0,
  "metadata": {
    "colab": {
      "provenance": [],
      "collapsed_sections": []
    },
    "kernelspec": {
      "name": "python3",
      "display_name": "Python 3"
    },
    "language_info": {
      "name": "python"
    }
  },
  "cells": [
    {
      "cell_type": "code",
      "execution_count": 11,
      "metadata": {
        "colab": {
          "base_uri": "https://localhost:8080/"
        },
        "id": "tx_eauEIHvI4",
        "outputId": "d131ef73-2673-4906-c5c9-db9116b7a14c"
      },
      "outputs": [
        {
          "name": "stdout",
          "output_type": "stream",
          "text": [
            "1000000 2 10\n"
          ]
        }
      ],
      "source": [
        "import csv\n",
        "\n",
        "amount, period, rate = map(float, input().split()) \n",
        "header = (\"Месяц\",\"Сумма на вкладе\",\"Начисление\")\n",
        "period = int(period)\n",
        "\n",
        "with open(\"output.csv\", \"w\") as csv_file: \n",
        "    print(*header, sep=',', file=csv_file) \n",
        "    \n",
        "    for month in range(1, period*12+1): \n",
        "        cap = amount * (1+rate/12./100.) - amount \n",
        "        amount += cap \n",
        "        print(f\"{month},{amount:.2f},{cap:.2f}\", file=csv_file)"
      ]
    }
  ]
}