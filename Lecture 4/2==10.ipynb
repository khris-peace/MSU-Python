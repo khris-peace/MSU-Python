{
  "nbformat": 4,
  "nbformat_minor": 0,
  "metadata": {
    "colab": {
      "provenance": [],
      "collapsed_sections": []
    },
    "kernelspec": {
      "name": "python3",
      "display_name": "Python 3"
    },
    "language_info": {
      "name": "python"
    }
  },
  "cells": [
    {
      "cell_type": "code",
      "execution_count": 17,
      "metadata": {
        "colab": {
          "base_uri": "https://localhost:8080/"
        },
        "id": "p6dVITGmigwf",
        "outputId": "ec221e81-c8a0-4c51-be05-0855623326cc"
      },
      "outputs": [
        {
          "output_type": "stream",
          "name": "stdout",
          "text": [
            "00000001\n",
            "1\n"
          ]
        }
      ],
      "source": [
        "n = str(input())\n",
        "print(int(n, base = 2))"
      ]
    }
  ]
}