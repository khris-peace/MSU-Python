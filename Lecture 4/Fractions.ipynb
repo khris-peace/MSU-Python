{
  "nbformat": 4,
  "nbformat_minor": 0,
  "metadata": {
    "colab": {
      "provenance": [],
      "collapsed_sections": []
    },
    "kernelspec": {
      "name": "python3",
      "display_name": "Python 3"
    },
    "language_info": {
      "name": "python"
    }
  },
  "cells": [
    {
      "cell_type": "code",
      "execution_count": 19,
      "metadata": {
        "id": "4LRdWaGyojXm",
        "colab": {
          "base_uri": "https://localhost:8080/"
        },
        "outputId": "03759025-ed6a-4831-92b2-680d7887a502"
      },
      "outputs": [
        {
          "output_type": "stream",
          "name": "stdout",
          "text": [
            "-48 29\n",
            "-538 363\n",
            "-643 518\n",
            "4.4065\n"
          ]
        }
      ],
      "source": [
        "from fractions import Fraction\n",
        "\n",
        "A = input()\n",
        "B = input()\n",
        "C = input()\n",
        "\n",
        "#print(A, type(A))\n",
        "\n",
        "a1 = A.split()\n",
        "b1 = B.split()\n",
        "c1 = C.split()\n",
        "\n",
        "#print(a1, type(a1))\n",
        "\n",
        "#a = int(a1[0])/(int(a1[1]))\n",
        "#b = int(b1[0])/(int(b1[1]))\n",
        "#c = int(c1[0])/(int(c1[1]))\n",
        "\n",
        "a = Fraction(int(a1[0]), (int(a1[1])))\n",
        "b = Fraction(int(b1[0]), (int(b1[1])))\n",
        "c = Fraction(int(c1[0]), (int(c1[1])))\n",
        "\n",
        "#print(a, type(a))\n",
        "\n",
        "res = float((b/a)+(b/(a+c))-(c/(c-a)))\n",
        "print(f'{res:.4f}')"
      ]
    }
  ]
}