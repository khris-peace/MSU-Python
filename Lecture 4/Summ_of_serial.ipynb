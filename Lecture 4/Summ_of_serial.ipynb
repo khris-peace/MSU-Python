{
  "nbformat": 4,
  "nbformat_minor": 0,
  "metadata": {
    "colab": {
      "provenance": [],
      "collapsed_sections": []
    },
    "kernelspec": {
      "name": "python3",
      "display_name": "Python 3"
    },
    "language_info": {
      "name": "python"
    }
  },
  "cells": [
    {
      "cell_type": "code",
      "execution_count": 27,
      "metadata": {
        "colab": {
          "base_uri": "https://localhost:8080/"
        },
        "id": "UFNp3MycXpRJ",
        "outputId": "0426e29e-b703-4cca-ece4-d173c17c6cea"
      },
      "outputs": [
        {
          "output_type": "stream",
          "name": "stdout",
          "text": [
            "1\n",
            "2\n",
            "3\n",
            "0\n",
            "3 6\n"
          ]
        }
      ],
      "source": [
        "i = 1\n",
        "j,b = 0,0\n",
        "while i  != 0:\n",
        "  i = int(input())\n",
        "  if i != 0:\n",
        "    b += i\n",
        "    #b = a + i\n",
        "    #a = i\n",
        "    #print(b)\n",
        "  j = j+1\n",
        "\n",
        "print (j-1, b)\n"
      ]
    }
  ]
}