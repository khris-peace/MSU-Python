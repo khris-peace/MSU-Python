{
  "nbformat": 4,
  "nbformat_minor": 0,
  "metadata": {
    "colab": {
      "provenance": [],
      "collapsed_sections": []
    },
    "kernelspec": {
      "name": "python3",
      "display_name": "Python 3"
    },
    "language_info": {
      "name": "python"
    }
  },
  "cells": [
    {
      "cell_type": "code",
      "execution_count": 2,
      "metadata": {
        "colab": {
          "base_uri": "https://localhost:8080/"
        },
        "id": "pFlfU7Hj_Hpi",
        "outputId": "60860ec8-35b7-47eb-f3e5-5ffc53385152"
      },
      "outputs": [
        {
          "output_type": "stream",
          "name": "stdout",
          "text": [
            "1 2 3\n",
            "3\n"
          ]
        }
      ],
      "source": [
        "A = input()\n",
        "\n",
        "a1 = A.split()\n",
        "\n",
        "b1 = float(a1[0])\n",
        "q = float(a1[1])\n",
        "a = float(a1[2])\n",
        "\n",
        "n = 1\n",
        "bn = 0\n",
        "\n",
        "while bn < a:\n",
        "  bn = b1*q**(n-1)\n",
        "  n += 1\n",
        "\n",
        "print(n-1)"
      ]
    }
  ]
}