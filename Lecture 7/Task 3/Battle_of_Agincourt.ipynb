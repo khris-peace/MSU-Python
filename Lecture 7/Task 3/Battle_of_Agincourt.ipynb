{
  "nbformat": 4,
  "nbformat_minor": 0,
  "metadata": {
    "colab": {
      "provenance": []
    },
    "kernelspec": {
      "name": "python3",
      "display_name": "Python 3"
    },
    "language_info": {
      "name": "python"
    }
  },
  "cells": [
    {
      "cell_type": "code",
      "execution_count": 5,
      "metadata": {
        "colab": {
          "base_uri": "https://localhost:8080/"
        },
        "id": "_vhmZ2sk1Dki",
        "outputId": "8b57442f-b8c2-4b1d-e8bc-41b58be6ec9b"
      },
      "outputs": [
        {
          "output_type": "stream",
          "name": "stdout",
          "text": [
            "11213 1313 1411 1415 1418\n",
            "3\n"
          ]
        }
      ],
      "source": [
        "b = input().split(' ')\n",
        "\n",
        "#print(b, type(b))\n",
        "\n",
        "#lst = [5,150,60,150,154,3,49]\n",
        "for index, i in enumerate(b):\n",
        "    if int(i) == 1415:\n",
        "        print(index)"
      ]
    }
  ]
}