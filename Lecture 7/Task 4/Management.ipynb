{
  "nbformat": 4,
  "nbformat_minor": 0,
  "metadata": {
    "colab": {
      "provenance": [],
      "toc_visible": true
    },
    "kernelspec": {
      "name": "python3",
      "display_name": "Python 3"
    },
    "language_info": {
      "name": "python"
    }
  },
  "cells": [
    {
      "cell_type": "code",
      "execution_count": 23,
      "metadata": {
        "id": "9lKgltaobqKL"
      },
      "outputs": [],
      "source": [
        "import numpy as np\n",
        "\n",
        "f = open(\"input.txt\", \"r\")\n",
        "lines = f.readlines()\n",
        "#print(lines, type(lines))\n",
        "\n",
        "start, end, lenght = float(lines[0].strip('\\n')), float(lines[1].strip('\\n')), int(lines[2])\n",
        "\n",
        "profit = np.linspace(start, end, lenght)\n",
        "#print(profit, len(profit))\n",
        "mon, fri = np.ones(lenght), np.ones(lenght) \n",
        "mon[::7], fri[4::7] = 3, 2\n",
        "\n",
        "i = 1\n",
        "\n",
        "F = open('output.txt', 'w')\n",
        "for p in profit / mon * fri:\n",
        "  if i < len(profit):\n",
        "    F.write(f'{p:.2f}' '\\n')\n",
        "    i += 1\n",
        "  else:\n",
        "    F.write(f'{p:.2f}')\n",
        "F = F.close()\n",
        "\n",
        "#for p in profit / mon * fri: print(f'{p:.2f}')"
      ]
    }
  ]
}