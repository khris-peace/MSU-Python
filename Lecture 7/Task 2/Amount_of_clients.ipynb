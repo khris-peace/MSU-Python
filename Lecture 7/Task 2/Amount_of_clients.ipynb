{
  "nbformat": 4,
  "nbformat_minor": 0,
  "metadata": {
    "colab": {
      "provenance": []
    },
    "kernelspec": {
      "name": "python3",
      "display_name": "Python 3"
    },
    "language_info": {
      "name": "python"
    }
  },
  "cells": [
    {
      "cell_type": "code",
      "execution_count": 1,
      "metadata": {
        "colab": {
          "base_uri": "https://localhost:8080/"
        },
        "id": "Fobxd_SnAlkX",
        "outputId": "072902ce-7245-43b4-a21f-b341c7a676bc"
      },
      "outputs": [
        {
          "output_type": "stream",
          "name": "stdout",
          "text": [
            "27\n"
          ]
        }
      ],
      "source": [
        "from math import sin, exp\n",
        " \n",
        "def clients(d):\n",
        "    return int(20*exp(sin(d/100)*d/10))\n",
        " \n",
        "print(clients(18))"
      ]
    }
  ]
}