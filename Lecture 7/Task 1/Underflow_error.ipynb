{
  "nbformat": 4,
  "nbformat_minor": 0,
  "metadata": {
    "colab": {
      "provenance": []
    },
    "kernelspec": {
      "name": "python3",
      "display_name": "Python 3"
    },
    "language_info": {
      "name": "python"
    }
  },
  "cells": [
    {
      "cell_type": "code",
      "execution_count": null,
      "metadata": {
        "id": "gyElGUmn8Bt6"
      },
      "outputs": [],
      "source": [
        "1e-12+1e-27\n",
        "1.000000000000001e-12\n",
        "1e-12+1e-28\n",
        "1e-12"
      ]
    }
  ]
}