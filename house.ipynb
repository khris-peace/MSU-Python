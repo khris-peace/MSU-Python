{
  "nbformat": 4,
  "nbformat_minor": 0,
  "metadata": {
    "colab": {
      "provenance": []
    },
    "kernelspec": {
      "name": "python3",
      "display_name": "Python 3"
    },
    "language_info": {
      "name": "python"
    }
  },
  "cells": [
    {
      "cell_type": "code",
      "execution_count": 9,
      "metadata": {
        "colab": {
          "base_uri": "https://localhost:8080/",
          "height": 521
        },
        "id": "R-NWLWypGz-r",
        "outputId": "cde0eafb-8acc-4278-daaa-24883b35024f"
      },
      "outputs": [
        {
          "output_type": "display_data",
          "data": {
            "text/plain": [
              "<IPython.core.display.HTML object>"
            ],
            "text/html": [
              "\n",
              "      <svg width=\"800\" height=\"500\">\n",
              "        <rect width=\"100%\" height=\"100%\" fill=\"black\"/>\n",
              "        <line x1=\"400\" y1=\"250\" x2=\"500.0\" y2=\"250.0\" stroke-linecap=\"round\" style=\"stroke:white;stroke-width:2\"/><line x1=\"500.0\" y1=\"250.0\" x2=\"500.0\" y2=\"350.0\" stroke-linecap=\"round\" style=\"stroke:white;stroke-width:2\"/><line x1=\"500.0\" y1=\"350.0\" x2=\"400.0\" y2=\"350.0\" stroke-linecap=\"round\" style=\"stroke:white;stroke-width:2\"/><line x1=\"400.0\" y1=\"350.0\" x2=\"400.0\" y2=\"250.0\" stroke-linecap=\"round\" style=\"stroke:white;stroke-width:2\"/><line x1=\"400.0\" y1=\"250.0\" x2=\"449.363\" y2=\"221.5\" stroke-linecap=\"round\" style=\"stroke:white;stroke-width:2\"/><line x1=\"449.363\" y1=\"221.5\" x2=\"466.684\" y2=\"231.5\" stroke-linecap=\"round\" style=\"stroke:white;stroke-width:2\"/><line x1=\"466.684\" y1=\"231.5\" x2=\"466.684\" y2=\"211.5\" stroke-linecap=\"round\" style=\"stroke:white;stroke-width:2\"/><line x1=\"466.684\" y1=\"211.5\" x2=\"486.684\" y2=\"211.5\" stroke-linecap=\"round\" style=\"stroke:white;stroke-width:2\"/><line x1=\"486.684\" y1=\"211.5\" x2=\"486.684\" y2=\"231.5\" stroke-linecap=\"round\" style=\"stroke:white;stroke-width:2\"/><line x1=\"486.684\" y1=\"231.5\" x2=\"486.684\" y2=\"242.5\" stroke-linecap=\"round\" style=\"stroke:white;stroke-width:2\"/><line x1=\"486.684\" y1=\"242.5\" x2=\"498.808\" y2=\"249.5\" stroke-linecap=\"round\" style=\"stroke:white;stroke-width:2\"/>\n",
              "        <g visibility=visible transform=\"rotate(120,542.109,274.5) translate(524.109, 256.5)\">\n",
              "<path style=\" stroke:none;fill-rule:evenodd;fill:white;fill-opacity:1;\" d=\"M 18.214844 0.632812 C 16.109375 1.800781 15.011719 4.074219 15.074219 7.132812 L 15.085938 7.652344 L 14.785156 7.496094 C 13.476562 6.824219 11.957031 6.671875 10.40625 7.066406 C 8.46875 7.550781 6.515625 9.15625 4.394531 11.992188 C 3.0625 13.777344 2.679688 14.636719 3.042969 15.027344 L 3.15625 15.152344 L 3.519531 15.152344 C 4.238281 15.152344 4.828125 14.886719 8.1875 13.039062 C 9.386719 12.378906 10.371094 11.839844 10.378906 11.839844 C 10.386719 11.839844 10.355469 11.929688 10.304688 12.035156 C 9.832031 13.09375 9.257812 14.820312 8.96875 16.078125 C 7.914062 20.652344 8.617188 24.53125 11.070312 27.660156 C 11.351562 28.015625 11.363281 27.914062 10.972656 28.382812 C 8.925781 30.84375 7.945312 33.28125 8.238281 35.1875 C 8.289062 35.527344 8.28125 35.523438 8.917969 35.523438 C 10.941406 35.523438 13.074219 34.207031 15.136719 31.6875 C 15.359375 31.417969 15.328125 31.425781 15.5625 31.574219 C 16.292969 32.042969 18.023438 32.964844 18.175781 32.964844 C 18.335938 32.964844 19.941406 32.210938 20.828125 31.71875 C 20.996094 31.625 21.136719 31.554688 21.136719 31.558594 C 21.203125 31.664062 21.898438 32.414062 22.222656 32.730469 C 23.835938 34.300781 25.5625 35.132812 27.582031 35.300781 C 27.90625 35.328125 27.9375 35.308594 28.007812 34.984375 C 28.382812 33.242188 27.625 30.925781 25.863281 28.425781 L 25.542969 27.96875 L 25.699219 27.785156 C 28.945312 23.960938 29.132812 18.699219 26.257812 11.96875 L 26.207031 11.84375 L 27.945312 12.703125 C 31.53125 14.476562 32.316406 14.800781 33.03125 14.800781 C 33.976562 14.800781 33.78125 13.9375 32.472656 12.292969 C 28.519531 7.355469 25.394531 5.925781 21.921875 7.472656 L 21.558594 7.636719 L 21.578125 7.542969 C 21.699219 6.992188 21.761719 5.742188 21.699219 5.164062 C 21.496094 3.296875 20.664062 1.964844 19.003906 0.855469 C 18.480469 0.503906 18.457031 0.5 18.214844 0.632812\"/>\n",
              "</g>\n",
              "      </svg>\n",
              "    "
            ]
          },
          "metadata": {}
        }
      ],
      "source": [
        "from ColabTurtle.Turtle import *\n",
        "initializeTurtle() #1\n",
        "speed(6) #2\n",
        "pensize(2) #3\n",
        "\n",
        "right(90) #4\n",
        "forward(100) #5\n",
        "right(90) #6\n",
        "forward(100) #7\n",
        "right(90) #8\n",
        "forward(100) #9\n",
        "right(90) #10\n",
        "forward(100) #11\n",
        "\n",
        "right(60) #12\n",
        "forward(57) #13\n",
        "right(60) #14\n",
        "forward(20) #15\n",
        "\n",
        "left(120) #16\n",
        "forward(20) #17\n",
        "right(90) #18\n",
        "forward(20) #19\n",
        "right(90) #20\n",
        "forward(20) #21\n",
        "forward(11) #22\n",
        "left(60) #23\n",
        "forward(14) #24\n",
        "\n",
        "penup() #25\n",
        "forward(50) #26"
      ]
    }
  ]
}