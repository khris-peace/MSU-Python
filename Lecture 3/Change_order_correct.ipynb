{
  "nbformat": 4,
  "nbformat_minor": 0,
  "metadata": {
    "colab": {
      "provenance": [],
      "collapsed_sections": []
    },
    "kernelspec": {
      "name": "python3",
      "display_name": "Python 3"
    },
    "language_info": {
      "name": "python"
    }
  },
  "cells": [
    {
      "cell_type": "code",
      "execution_count": 18,
      "metadata": {
        "colab": {
          "base_uri": "https://localhost:8080/"
        },
        "id": "NVlCkS8z2338",
        "outputId": "96319291-aa03-4418-a5f6-eb57523cdeae"
      },
      "outputs": [
        {
          "output_type": "stream",
          "name": "stdout",
          "text": [
            "А азор алапу ан упал арозА\n"
          ]
        }
      ],
      "source": [
        "f = open('input.txt')\n",
        "string=f.read()\n",
        "#stripped_lines = [line.strip() for line in string]\n",
        "#s = str(stripped_lines)\n",
        "#lines=str(f.readlines())\n",
        "#print(lines.split())\n",
        "t = string.split()\n",
        "p = string.split()\n",
        "#print(t)\n",
        "\n",
        "def is_palindrome(strin):\n",
        "    reversed_string = strin[::-1]\n",
        "    return reversed_string\n",
        "\n",
        "n = len(t)\n",
        "#print(n)\n",
        "\n",
        "for i in range(0,n):\n",
        "    p[i] = is_palindrome(t[i])\n",
        "print(' '.join(p))\n",
        "#print(type(' '.join(p)))\n",
        "#print(\"илбароК ,илаворивал-илаворивал ад ен илаворивалыв\")\n",
        "f.close()"
      ]
    }
  ]
}