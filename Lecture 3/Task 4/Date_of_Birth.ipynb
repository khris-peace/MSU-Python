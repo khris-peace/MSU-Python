{
  "nbformat": 4,
  "nbformat_minor": 0,
  "metadata": {
    "colab": {
      "provenance": [],
      "collapsed_sections": []
    },
    "kernelspec": {
      "name": "python3",
      "display_name": "Python 3"
    },
    "language_info": {
      "name": "python"
    }
  },
  "cells": [
    {
      "cell_type": "code",
      "execution_count": 48,
      "metadata": {
        "colab": {
          "base_uri": "https://localhost:8080/"
        },
        "id": "cMlxjOwuuf35",
        "outputId": "7d1e7a4d-a1d7-491e-d269-9cafa00abbad"
      },
      "outputs": [
        {
          "output_type": "stream",
          "name": "stdout",
          "text": [
            "('Pasha', '\\t', '13 oct')\n",
            "('Misha', '\\t', '28 mar')\n",
            "('Kolya', '\\t', '26 feb')\n"
          ]
        }
      ],
      "source": [
        "f = open('input.txt')\n",
        "#strinh = f.read()\n",
        "string = f.readlines()\n",
        "stripped_lines = [line.strip() for line in string]\n",
        "\n",
        "\n",
        "#print(stripped_lines[0])\n",
        "\n",
        "a = int(stripped_lines[0])\n",
        "list1 = [None]*a\n",
        "b = (' '.join((stripped_lines[1:a+1]))).split()\n",
        "for i in range(0,a):\n",
        "      c_i = (' '.join((stripped_lines[a+1+i:a+1+i+1]))).split()#' ',2)\n",
        "      d_i = ' '.join(c_i)\n",
        "      list1[i] = d_i\n",
        "\n",
        "#print(b)\n",
        "#print(list1)\n",
        "\n",
        "#strr = [None]*a\n",
        "#for j in range(0,a):\n",
        " #     strr[i] = '\\n'.join([b[i], '\\t', list1[i]])\n",
        "\n",
        "strr \n",
        "\n",
        "for x, y in zip(b,list1):\n",
        "      text = x, '\\t', y\n",
        "      print(text)\n",
        "\n",
        "\n",
        "#>>> text = \n",
        "#'a,b,c'\n",
        "#>>> text = text.split(',')\n",
        "#>>> text\n",
        "#[ 'a', 'b', 'c' ]\n",
        "\n",
        "\n",
        "#a = \"Алексей Руслан Тимур\".split()\n",
        "#b = \"Алёна Рита Тая\".split()\n",
        "#for x, y in zip(a, b):\n",
        "#    print(x, '+', y, '= \\u2665')\n",
        "\n",
        "\n",
        "\n",
        "f.close()\n",
        "\n",
        "#F = open('output.txt', 'w')\n",
        "#String = F.writelines()\n",
        "#F = F.close()"
      ]
    }
  ]
}