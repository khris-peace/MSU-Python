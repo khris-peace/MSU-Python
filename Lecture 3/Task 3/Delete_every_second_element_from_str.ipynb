{
  "nbformat": 4,
  "nbformat_minor": 0,
  "metadata": {
    "colab": {
      "provenance": [],
      "collapsed_sections": []
    },
    "kernelspec": {
      "name": "python3",
      "display_name": "Python 3"
    },
    "language_info": {
      "name": "python"
    }
  },
  "cells": [
    {
      "cell_type": "code",
      "execution_count": 32,
      "metadata": {
        "colab": {
          "base_uri": "https://localhost:8080/"
        },
        "id": "2VL9ezAfYtB9",
        "outputId": "22870f44-850c-469b-f992-b4b65ddae83d"
      },
      "outputs": [
        {
          "output_type": "stream",
          "name": "stdout",
          "text": [
            "['Мне привезли товар в плохом состоянии.', 'Плата разбита', 'Я хочу вернуть деньги.']\n",
            "Мне привезли товар в плохом состоянии.\n",
            "Плата разбита\n",
            "Я хочу вернуть деньги.\n"
          ]
        }
      ],
      "source": [
        "f = open('input.txt')\n",
        "#strinh = f.read()\n",
        "string = f.readlines()\n",
        "\n",
        "stripped_lines = [line.strip() for line in string]\n",
        "\n",
        "#s = strinh.split()\n",
        "\n",
        "#print(s, '*')\n",
        "\n",
        "#print(strinh, '*')\n",
        "#print(string, '*')\n",
        "\n",
        "n = len(stripped_lines)\n",
        "\n",
        "a = stripped_lines[0].split()\n",
        "#print(a)\n",
        "\n",
        "list1 = [None]*n\n",
        "j = 0\n",
        "A = (stripped_lines[0].split())[::2]\n",
        "\n",
        "for i in range(0,n):\n",
        "      a_i = (stripped_lines[i].split())[::2]\n",
        "      #print(a_i)\n",
        "      b_i = ' '.join(a_i)\n",
        "      j= j+1\n",
        "      list1[i] = b_i\n",
        "      #A = '\\n'.join(b_i)\n",
        "      #print (A)\n",
        "\n",
        "#for k in range(0,j-1): \n",
        " #     A = A + a_k  \n",
        "#print(list1)\n",
        "print('\\n'.join(list1))\n",
        "#print(' '.join(A))\n",
        "\n",
        "#print(*(s[::2]))\n",
        "\n",
        "#print(stripped_lines)\n",
        "\n",
        "#s = str(stripped_lines)\n",
        "#print(s)"
      ]
    }
  ]
}