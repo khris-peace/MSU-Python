{
  "nbformat": 4,
  "nbformat_minor": 0,
  "metadata": {
    "colab": {
      "provenance": [],
      "collapsed_sections": []
    },
    "kernelspec": {
      "name": "python3",
      "display_name": "Python 3"
    },
    "language_info": {
      "name": "python"
    }
  },
  "cells": [
    {
      "cell_type": "code",
      "execution_count": 25,
      "metadata": {
        "colab": {
          "base_uri": "https://localhost:8080/"
        },
        "id": "A75A-h8ypGcW",
        "outputId": "bba26da7-d912-4ed9-c83e-3f0de0188ec5"
      },
      "outputs": [
        {
          "output_type": "stream",
          "name": "stdout",
          "text": [
            "[\"['Что\", 'такое', 'осень', '-', 'это', \"небо']\"]\n",
            "6\n",
            "отЧ'[\n",
            "еокат\n",
            "ьнесо\n",
            "-\n",
            "отэ\n",
            "]'обен\n"
          ]
        }
      ],
      "source": [
        "f = open('input.txt')\n",
        "lines=f.readlines()\n",
        "stripped_lines = [line.strip() for line in lines]\n",
        "s = str(stripped_lines)\n",
        "#lines=str(f.readlines())\n",
        "#print(lines.split())\n",
        "t = s.split()\n",
        "print(t)\n",
        "\n",
        "def is_palindrome(string):\n",
        "    reversed_string = string[::-1]\n",
        "    return reversed_string\n",
        "\n",
        "n = len(t)\n",
        "print(n)\n",
        "\n",
        "for i in range(0,n):\n",
        "    p = is_palindrome(t[i])\n",
        "    print(p)\n",
        "f.close()"
      ]
    }
  ]
}