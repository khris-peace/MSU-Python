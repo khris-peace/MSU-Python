{
  "nbformat": 4,
  "nbformat_minor": 0,
  "metadata": {
    "colab": {
      "provenance": [],
      "collapsed_sections": []
    },
    "kernelspec": {
      "name": "python3",
      "display_name": "Python 3"
    },
    "language_info": {
      "name": "python"
    }
  },
  "cells": [
    {
      "cell_type": "code",
      "source": [],
      "metadata": {
        "id": "hxa0kXFiGj1F"
      },
      "execution_count": null,
      "outputs": []
    },
    {
      "cell_type": "code",
      "execution_count": 42,
      "metadata": {
        "colab": {
          "base_uri": "https://localhost:8080/"
        },
        "id": "K_Pf9mUECGyr",
        "outputId": "ccf24054-66b2-4777-8338-327a17c20d7e"
      },
      "outputs": [
        {
          "output_type": "stream",
          "name": "stdout",
          "text": [
            "Дед Мороз огни зажёг\n",
            "На высокой ёлке.\n",
            "Пусть не гаснет ёлка,\n"
          ]
        }
      ],
      "source": [
        "f = open('input.txt')\n",
        "string=f.readlines()\n",
        "\n",
        "stripped_lines = [line.strip() for line in string]\n",
        "\n",
        "#print(stripped_lines)\n",
        "\n",
        "filtered_lines = [line for line in stripped_lines if 'ё' in line] # в новый список выбираем только те строки, в которых есть слово \"любовь\"\n",
        "#filtered_lines\n",
        "\n",
        "#p = str(filtered_lines)\n",
        "#s = p.strip()\n",
        "\n",
        "#print(str(s))\n",
        "#print(type(str(filtered_lines)))\n",
        "print('\\n'.join(filtered_lines))\n",
        "#print(''.join(filtered_lines) == \"На высокой ёлке.\")\n",
        "\n",
        "f.close()"
      ]
    }
  ]
}