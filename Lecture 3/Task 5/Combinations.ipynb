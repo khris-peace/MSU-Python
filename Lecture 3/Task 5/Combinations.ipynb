{
  "nbformat": 4,
  "nbformat_minor": 0,
  "metadata": {
    "colab": {
      "provenance": [],
      "collapsed_sections": []
    },
    "kernelspec": {
      "name": "python3",
      "display_name": "Python 3"
    },
    "language_info": {
      "name": "python"
    }
  },
  "cells": [
    {
      "cell_type": "code",
      "execution_count": 57,
      "metadata": {
        "colab": {
          "base_uri": "https://localhost:8080/"
        },
        "id": "SV7y2rC0aVPS",
        "outputId": "6bed40db-6cdb-4dc0-bbb3-6c94423e723d"
      },
      "outputs": [
        {
          "output_type": "stream",
          "name": "stdout",
          "text": [
            "1: Dima 2: Petya 3: Sasha \n",
            "1: Dima 2: Petya 3: Misha \n",
            "1: Dima 2: Petya 3: Egor \n",
            "1: Dima 2: Sasha 3: Misha \n",
            "1: Dima 2: Sasha 3: Egor \n",
            "1: Dima 2: Misha 3: Egor \n",
            "1: Petya 2: Sasha 3: Misha \n",
            "1: Petya 2: Sasha 3: Egor \n",
            "1: Petya 2: Misha 3: Egor \n",
            "1: Sasha 2: Misha 3: Egor \n"
          ]
        }
      ],
      "source": [
        "import itertools as it\n",
        "\n",
        "f = open('studygroup.txt')\n",
        "#string = f.readlines()\n",
        "strinh = f.read()\n",
        "#stripped_lines = [line.strip() for line in string]\n",
        "\n",
        "#print(stripped_lines)\n",
        "#print(strinh)\n",
        "\n",
        "res = tuple(map(str, strinh.split(' ')))\n",
        "#print(res)\n",
        "#l0 = strinh.strip()\n",
        "\n",
        "#l1 = tuple(strinh)\n",
        "\n",
        "#print(type(strinh))\n",
        "#print(type(l0))\n",
        "#print(type(l1))\n",
        "#print(l0)\n",
        "#print(l1)\n",
        "\n",
        "#l1 = str(stripped_lines)\n",
        "#l2 = tuple(stripped_lines)\n",
        "#l3 = tuple(l1)\n",
        "\n",
        "#print(l1)\n",
        "#print(l2)\n",
        "#print(l3)\n",
        "\n",
        "for x, y, z in it.combinations(res, 3):\n",
        "    print('1:',x,'2:',y,'3:',z,'') #== '1: Dima 2: Petya 3: Sasha')\n",
        "    #print('2: ',y, ' ')\n",
        "    #print('3: ',z, '\\n')\n",
        "#print('\\n')\n",
        "\n",
        "\n",
        "#for x, y, z in it.combinations(res, 3):\n",
        " #   print(x, y, z, sep=' ', end='\\n')\n",
        "\n",
        "#for x, y in it.combinations(\"ABCDE\", 2):\n",
        " #   print(x, y, sep='', end='\\t')"
      ]
    }
  ]
}